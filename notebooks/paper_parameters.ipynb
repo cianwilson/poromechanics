{
 "cells": [
  {
   "cell_type": "code",
   "execution_count": 1,
   "id": "a9c5694f-57b8-4bc4-ba2a-fa22789bdf51",
   "metadata": {},
   "outputs": [],
   "source": [
    "import numpy as np"
   ]
  },
  {
   "cell_type": "markdown",
   "id": "303c360b-ecd0-476e-8f4b-307a213c0ccb",
   "metadata": {},
   "source": [
    "From Table 2 in the paper"
   ]
  },
  {
   "cell_type": "code",
   "execution_count": 2,
   "id": "51fdf040-f769-467a-a77b-d283e88e4115",
   "metadata": {},
   "outputs": [],
   "source": [
    "K = 3.5e9  # Bulk modulus\n",
    "G = 2.0e9  # Shear modulus\n",
    "M = 8.9e9  # Biot modulus\n",
    "alpha = 0.9  # Biot coefficient\n",
    "UCS = 5.0e6 # uniaxial comp strength\n",
    "phi = 30.0 # friction angle\n",
    "psi = 7.5 # dilation angle\n",
    "k = 1.e-13 # permeability\n",
    "n = 0.2 # porosity"
   ]
  },
  {
   "cell_type": "markdown",
   "id": "2fd02f12-dbd8-4eb3-9750-d6b5235bec14",
   "metadata": {},
   "source": [
    "Convert to inputs"
   ]
  },
  {
   "cell_type": "code",
   "execution_count": 3,
   "id": "59e222a1-2231-4b18-a0bb-e74831de364e",
   "metadata": {},
   "outputs": [
    {
     "data": {
      "text/plain": [
       "(0.26, 5.04, 5.04)"
      ]
     },
     "execution_count": 3,
     "metadata": {},
     "output_type": "execute_result"
    }
   ],
   "source": [
    "nu = (3*K-2*G)/2/(3*K+G)\n",
    "E = 3*K*(1-2*nu)\n",
    "nu, E/1.e9, 2*G*(1+nu)/1.e9"
   ]
  },
  {
   "cell_type": "code",
   "execution_count": 4,
   "id": "0039cf7a-a34e-4f47-a2ff-784422a58f76",
   "metadata": {},
   "outputs": [
    {
     "data": {
      "text/plain": [
       "35.00000000000001"
      ]
     },
     "execution_count": 4,
     "metadata": {},
     "output_type": "execute_result"
    }
   ],
   "source": [
    "Ks = K/(1 - alpha)\n",
    "Ks/1.e9"
   ]
  },
  {
   "cell_type": "code",
   "execution_count": 5,
   "id": "b87ca490-d7e4-48e3-8473-f871c8c09a91",
   "metadata": {},
   "outputs": [
    {
     "data": {
      "text/plain": [
       "2.165450121654501"
      ]
     },
     "execution_count": 5,
     "metadata": {},
     "output_type": "execute_result"
    }
   ],
   "source": [
    "Kf = (1/n/M - (alpha-n)/Ks/n)**(-1)\n",
    "Kf/1.e9"
   ]
  },
  {
   "cell_type": "markdown",
   "id": "63a2f32b-e01a-449c-a3f9-22fdf0287317",
   "metadata": {},
   "source": [
    "Not given in paper?\n",
    " * `rhos` = 2.6e3 # kg/m^3\n",
    " * `rhof` = 1.e3  # kg/m^3\n",
    " * `mu` = 1.e-3   # Pa s\n",
    " * `ks` = 10000.0 # W/m/K\n",
    " * `kf` = 10000.0 # W/m/K\n",
    " * `Cps` = 8.0e2  # J/kg/K\n",
    " * `Cpf` = 4.2e3  # J/kg/K"
   ]
  },
  {
   "cell_type": "code",
   "execution_count": 6,
   "id": "55ee22ac-9f08-4e1c-839b-e69d3a39c58e",
   "metadata": {},
   "outputs": [
    {
     "data": {
      "text/plain": [
       "(0.0060202140459407125, 32220631.079022437, 7477491.948970213)"
      ]
     },
     "execution_count": 6,
     "metadata": {},
     "output_type": "execute_result"
    }
   ],
   "source": [
    "q = (1+np.sin(phi))/(1-np.sin(phi))\n",
    "So = UCS/2/np.sqrt(q)\n",
    "c = 6*So*np.cos(phi)/(3-np.sin(phi))\n",
    "q, So, c"
   ]
  },
  {
   "cell_type": "code",
   "execution_count": null,
   "id": "d58c754b-0a1d-40d6-8121-1e7157563669",
   "metadata": {},
   "outputs": [],
   "source": []
  }
 ],
 "metadata": {
  "kernelspec": {
   "display_name": "Python 3 (ipykernel)",
   "language": "python",
   "name": "python3"
  },
  "language_info": {
   "codemirror_mode": {
    "name": "ipython",
    "version": 3
   },
   "file_extension": ".py",
   "mimetype": "text/x-python",
   "name": "python",
   "nbconvert_exporter": "python",
   "pygments_lexer": "ipython3",
   "version": "3.10.12"
  }
 },
 "nbformat": 4,
 "nbformat_minor": 5
}
