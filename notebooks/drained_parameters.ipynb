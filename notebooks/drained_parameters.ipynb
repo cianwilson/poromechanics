{
 "cells": [
  {
   "cell_type": "code",
   "execution_count": 7,
   "id": "94289871-8092-43e7-bc3a-666c149d4e2d",
   "metadata": {},
   "outputs": [],
   "source": [
    "# Mechanical\n",
    "E = 5.0e+9  # Young's Modulus [Pa]\n",
    "nu = 0.26  # Poisson's Ratio [-]\n",
    "Ks = 37.0e+9  # Grain Bulk Modulus [Pa]\n",
    "Kf = 2.15e+9  # Fluid Bulk Modulus [Pa]\n",
    "rhos = 2.60e+3  # Graind Density [kg/m3]\n",
    "\n",
    "#Hydraulic\n",
    "phi = 0.20  # Porosity [-]\n",
    "k = 1.0e-13  # Permeability [m^2]\n",
    "mu = 1.0e-3  # Fluid Viscosity [Pa-s]\n",
    "rhof = 1.0e+3  # Fluid Density [kg/m3]\n",
    "\n",
    "# Thermal\n",
    "ks = 10000.0  # Grain Thermal Conductivity [W/m/K]\n",
    "kf = 10000.0  # Fluid Thermal Conductivity [W/m/K]\n",
    "Cps = 8.0e+2  # Grain Heat Capacity [J/kg/K]\n",
    "Cpf = 4.2e+3  # Fluid Heat Capacity [J/kg/K]\n",
    "betas = 6.0e-5  # Grain Thermal Expansion [1/K]\n",
    "betaf = 19.8e-5 # Fluid Thermal Expansion [1/K]\n",
    "\n",
    "# Plastic\n",
    "softening = 0  # Strain-Softening Friction Coefficient [True=1,False=0]\n",
    "phi_crit = 25.377  # Critical State Friction Angle [deg] (only if softening = 1)\n",
    "a = 75.0  # Strain-Softening Exponential Constant [-] (only if softening = 1)\n",
    "phif = 30  # Peak Friction Angle [deg] (must be defined)\n",
    "psi = 7.5  # Peak Dilation Angle [deg] (only if softening = 0)\n",
    "UCS = 5.0e+6  # Unconfined Compressive Strength [Pa] (must be defined)\n"
   ]
  },
  {
   "cell_type": "code",
   "execution_count": 8,
   "id": "77bdf7c8-3b6b-4175-a563-839ea74243e6",
   "metadata": {},
   "outputs": [
    {
     "data": {
      "text/plain": [
       "3.4722222222222223"
      ]
     },
     "execution_count": 8,
     "metadata": {},
     "output_type": "execute_result"
    }
   ],
   "source": [
    "K = E/3/(1-2*nu)\n",
    "K/1.e9"
   ]
  },
  {
   "cell_type": "code",
   "execution_count": 9,
   "id": "82ab9d37-6be4-4efa-a075-4ff4a8bf5826",
   "metadata": {},
   "outputs": [
    {
     "data": {
      "text/plain": [
       "1.9841269841269842"
      ]
     },
     "execution_count": 9,
     "metadata": {},
     "output_type": "execute_result"
    }
   ],
   "source": [
    "G = E/2/(1+nu)\n",
    "G/1.e9"
   ]
  },
  {
   "cell_type": "code",
   "execution_count": 10,
   "id": "6948fadc-e990-430e-bc63-62b0ff0cece1",
   "metadata": {},
   "outputs": [
    {
     "data": {
      "text/plain": [
       "(0.26, 5.04, 5.04)"
      ]
     },
     "execution_count": 10,
     "metadata": {},
     "output_type": "execute_result"
    }
   ],
   "source": [
    "K = 3.5e9\n",
    "G = 2.e9\n",
    "nu = (3*K-2*G)/2/(3*K+G)\n",
    "E = 3*K*(1-2*nu)\n",
    "nu, E/1.e9, 2*G*(1+nu)/1.e9"
   ]
  },
  {
   "cell_type": "code",
   "execution_count": 11,
   "id": "cab7f565-aa66-4203-81fc-29d8e3a9f0e3",
   "metadata": {},
   "outputs": [
    {
     "data": {
      "text/plain": [
       "0.9054054054054054"
      ]
     },
     "execution_count": 11,
     "metadata": {},
     "output_type": "execute_result"
    }
   ],
   "source": [
    "alpha = 1 - K/Ks\n",
    "alpha"
   ]
  },
  {
   "cell_type": "code",
   "execution_count": 12,
   "id": "854cf333-6cb4-4886-80d7-4be453deb772",
   "metadata": {},
   "outputs": [
    {
     "data": {
      "text/plain": [
       "8.921540396768863"
      ]
     },
     "execution_count": 12,
     "metadata": {},
     "output_type": "execute_result"
    }
   ],
   "source": [
    "M = (phi/Kf + (alpha-phi)/Ks)**(-1)\n",
    "M/1.e9"
   ]
  }
 ],
 "metadata": {
  "kernelspec": {
   "display_name": "Python 3 (ipykernel)",
   "language": "python",
   "name": "python3"
  },
  "language_info": {
   "codemirror_mode": {
    "name": "ipython",
    "version": 3
   },
   "file_extension": ".py",
   "mimetype": "text/x-python",
   "name": "python",
   "nbconvert_exporter": "python",
   "pygments_lexer": "ipython3",
   "version": "3.10.12"
  }
 },
 "nbformat": 4,
 "nbformat_minor": 5
}
