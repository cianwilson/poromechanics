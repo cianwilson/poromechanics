{
 "cells": [
  {
   "cell_type": "code",
   "execution_count": 1,
   "id": "94289871-8092-43e7-bc3a-666c149d4e2d",
   "metadata": {},
   "outputs": [],
   "source": [
    "E = 5.0e+9  # Young's Modulus [Pa]\n",
    "nu = 0.26  # Poisson's Ratio [-]\n",
    "Ks = 37.0e+9  # Grain Bulk Modulus [Pa]\n",
    "Kf = 2.15e+9  # Fluid Bulk Modulus [Pa]\n",
    "rhos = 2.60e+3  # Graind Density [kg/m3]\n",
    "\n",
    "phi = 0.20  # Porosity [-]\n",
    "k = 1.0e-13  # Permeability [m^2]\n",
    "mu = 1.0e-3  # Fluid Viscosity [Pa-s]\n",
    "rhof = 1.0e+3  # Fluid Density [kg/m3]\n",
    "\n",
    "ks = 10000.0  # Grain Thermal Conductivity [W/m/K]\n",
    "kf = 10000.0  # Fluid Thermal Conductivity [W/m/K]\n",
    "Cps = 8.0e+2  # Grain Heat Capacity [J/kg/K]\n",
    "Cpf = 4.2e+3  # Fluid Heat Capacity [J/kg/K]\n",
    "betas = 6.0e-5  # Grain Thermal Expansion [1/K]\n",
    "betaf = 19.8e-5 # Fluid Thermal Expansion [1/K]\n",
    "\n",
    "softening = 0  # Strain-Softening Friction Coefficient [True=1,False=0]\n",
    "phi_crit = 25.377  # Critical State Friction Angle [deg] (only if softening = 1)\n",
    "a = 75.0  # Strain-Softening Exponential Constant [-] (only if softening = 1)\n",
    "phif = 30  # Peak Friction Angle [deg] (must be defined)\n",
    "psi = 7.5  # Peak Dilation Angle [deg] (only if softening = 0)\n",
    "UCS = 5.0e+6  # Unconfined Compressive Strength [Pa] (must be defined)\n"
   ]
  },
  {
   "cell_type": "code",
   "execution_count": 5,
   "id": "77bdf7c8-3b6b-4175-a563-839ea74243e6",
   "metadata": {},
   "outputs": [
    {
     "data": {
      "text/plain": [
       "82.14"
      ]
     },
     "execution_count": 5,
     "metadata": {},
     "output_type": "execute_result"
    }
   ],
   "source": [
    "E = 3*Ks*(1-nu)\n",
    "E*1.e-9"
   ]
  },
  {
   "cell_type": "code",
   "execution_count": 6,
   "id": "82ab9d37-6be4-4efa-a075-4ff4a8bf5826",
   "metadata": {},
   "outputs": [
    {
     "data": {
      "text/plain": [
       "32.595238095238095"
      ]
     },
     "execution_count": 6,
     "metadata": {},
     "output_type": "execute_result"
    }
   ],
   "source": [
    "G = 3*Ks*(1-nu)/2/(1+nu)\n",
    "G*1.e-9"
   ]
  },
  {
   "cell_type": "code",
   "execution_count": null,
   "id": "6948fadc-e990-430e-bc63-62b0ff0cece1",
   "metadata": {},
   "outputs": [],
   "source": []
  }
 ],
 "metadata": {
  "kernelspec": {
   "display_name": "Python 3 (ipykernel)",
   "language": "python",
   "name": "python3"
  },
  "language_info": {
   "codemirror_mode": {
    "name": "ipython",
    "version": 3
   },
   "file_extension": ".py",
   "mimetype": "text/x-python",
   "name": "python",
   "nbconvert_exporter": "python",
   "pygments_lexer": "ipython3",
   "version": "3.10.12"
  }
 },
 "nbformat": 4,
 "nbformat_minor": 5
}
